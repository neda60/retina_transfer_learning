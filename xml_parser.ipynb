{
  "nbformat": 4,
  "nbformat_minor": 0,
  "metadata": {
    "colab": {
      "name": "fizyr_keras_retinanet.ipynb",
      "provenance": [],
      "collapsed_sections": [],
      "toc_visible": true
    },
    "kernelspec": {
      "name": "python3",
      "display_name": "Python 3"
    },
    "accelerator": "GPU"
  },
  "cells": [
    {
      "cell_type": "code",
      "metadata": {
        "id": "yDZWfpbjLg0J",
        "colab_type": "code",
        "outputId": "a8df55b2-4f2b-4a42-dd71-433d52cb4fe1",
        "colab": {
          "base_uri": "https://localhost:8080/",
          "height": 54
        }
      },
      "source": [
        "from google.colab import drive\n",
        "drive.mount('/content/drive')"
      ],
      "execution_count": 4,
      "outputs": [
        {
          "output_type": "stream",
          "text": [
            "Drive already mounted at /content/drive; to attempt to forcibly remount, call drive.mount(\"/content/drive\", force_remount=True).\n"
          ],
          "name": "stdout"
        }
      ]
    },
    {
      "cell_type": "markdown",
      "metadata": {
        "id": "bzpgGUAtLnqO",
        "colab_type": "text"
      },
      "source": [
        "**Parse all xml files to numeric format**"
      ]
    },
    {
      "cell_type": "code",
      "metadata": {
        "id": "ZwdpjHFX_wck",
        "colab_type": "code",
        "colab": {}
      },
      "source": [
        "from bs4 import BeautifulSoup\n",
        "import os\n",
        "import csv\n",
        "\n",
        "folder = '/content/drive/My Drive/KTH_Handtool_Dataset'\n",
        "subfolder = ['Blue_background']\n",
        "in_subfolder = ['Artificial', 'Cloudy', 'Directed']\n",
        "instruments = ['hammer1', 'hammer2', 'hammer3', 'plier1', 'plier2', 'plier3', 'screw1', 'screw2', 'screw3']\n",
        "\n",
        "with open('train.csv', mode='w') as file:\n",
        "  for folder_name in subfolder:\n",
        "    for in_folder_name in in_subfolder:\n",
        "      for instrument in instruments:\n",
        "        directory_name = os.path.join(folder, folder_name, 'rgb', in_folder_name, instrument)\n",
        "        directory_name_xml = os.path.join(folder, folder_name, 'bboxes', in_folder_name, instrument)\n",
        "        for filename in os.listdir(directory_name_xml):\n",
        "          label = instrument\n",
        "          filename_jpg = filename[:-4] + '.jpg'\n",
        "          filename_str = os.path.join(directory_name, filename_jpg)\n",
        "          handler = open(os.path.join(directory_name_xml, filename)).read()\n",
        "          soup = BeautifulSoup(handler, \"xml\")\n",
        "          xmin = int(soup.xmin.string)\n",
        "          xmax = int(soup.xmax.string)\n",
        "          ymin = int(soup.ymin.string)\n",
        "          ymax = int(soup.ymax.string)\n",
        "          row = [filename_str, xmin, ymin, xmax, ymax, label]\n",
        "          writer = csv.writer(file, delimiter=',', quotechar='\"', quoting=csv.QUOTE_MINIMAL)\n",
        "          writer.writerow(row)"
      ],
      "execution_count": 0,
      "outputs": []
    },
    {
      "cell_type": "code",
      "metadata": {
        "id": "rZv4NL9qU9DC",
        "colab_type": "code",
        "colab": {}
      },
      "source": [
        "subfolder = ['Brown_background', 'White_background']\n",
        "sub_instruments = ['Kinect', 'webcam']\n",
        "dict_instr = {'Kinect': 'kinect'}\n",
        "\n",
        "# open file to write to the end of a file\n",
        "with open('train.csv', mode='a') as file:\n",
        "  for folder_name in subfolder:\n",
        "    for in_folder_name in in_subfolder:\n",
        "      for instrument in instruments:\n",
        "        for sub_instrument in sub_instruments:\n",
        "          directory_name = os.path.join(folder, folder_name, 'rgb', in_folder_name, instrument, sub_instrument)\n",
        "          dir_name_xml = os.path.join(folder, folder_name, 'bbox', in_folder_name, instrument)\n",
        "          if sub_instrument not in os.listdir(dir_name_xml):\n",
        "            sub_instrument = dict_instr[sub_instrument]\n",
        "          directory_name_xml = os.path.join(dir_name_xml, sub_instrument)\n",
        "          for filename in os.listdir(directory_name_xml):\n",
        "            label = instrument\n",
        "            filename_jpg = filename[:-4] + '.jpg'\n",
        "            filename_str = os.path.join(directory_name, filename_jpg)\n",
        "            handler = open(os.path.join(directory_name_xml, filename)).read()\n",
        "            soup = BeautifulSoup(handler, \"xml\")\n",
        "            xmin = int(soup.xmin.string)\n",
        "            xmax = int(soup.xmax.string)\n",
        "            ymin = int(soup.ymin.string)\n",
        "            ymax = int(soup.ymax.string)\n",
        "            row = [filename_str, xmin, ymin, xmax, ymax, label]\n",
        "            writer = csv.writer(file, delimiter=',', quotechar='\"', quoting=csv.QUOTE_MINIMAL)\n",
        "            writer.writerow(row)"
      ],
      "execution_count": 0,
      "outputs": []
    },
    {
      "cell_type": "code",
      "metadata": {
        "id": "MWWskPIFiZkY",
        "colab_type": "code",
        "outputId": "919cbfb9-cfba-43c5-bb35-bc59b2770cf3",
        "colab": {
          "base_uri": "https://localhost:8080/",
          "height": 204
        }
      },
      "source": [
        "import pandas as pd\n",
        "\n",
        "data = pd.read_csv(\"train.csv\", header=None)\n",
        "data = data.sample(frac=1).reset_index(drop=True)\n",
        "data.head()"
      ],
      "execution_count": 7,
      "outputs": [
        {
          "output_type": "execute_result",
          "data": {
            "text/html": [
              "<div>\n",
              "<style scoped>\n",
              "    .dataframe tbody tr th:only-of-type {\n",
              "        vertical-align: middle;\n",
              "    }\n",
              "\n",
              "    .dataframe tbody tr th {\n",
              "        vertical-align: top;\n",
              "    }\n",
              "\n",
              "    .dataframe thead th {\n",
              "        text-align: right;\n",
              "    }\n",
              "</style>\n",
              "<table border=\"1\" class=\"dataframe\">\n",
              "  <thead>\n",
              "    <tr style=\"text-align: right;\">\n",
              "      <th></th>\n",
              "      <th>0</th>\n",
              "      <th>1</th>\n",
              "      <th>2</th>\n",
              "      <th>3</th>\n",
              "      <th>4</th>\n",
              "      <th>5</th>\n",
              "    </tr>\n",
              "  </thead>\n",
              "  <tbody>\n",
              "    <tr>\n",
              "      <th>0</th>\n",
              "      <td>/content/drive/My Drive/KTH_Handtool_Dataset/B...</td>\n",
              "      <td>204</td>\n",
              "      <td>187</td>\n",
              "      <td>308</td>\n",
              "      <td>283</td>\n",
              "      <td>plier1</td>\n",
              "    </tr>\n",
              "    <tr>\n",
              "      <th>1</th>\n",
              "      <td>/content/drive/My Drive/KTH_Handtool_Dataset/B...</td>\n",
              "      <td>283</td>\n",
              "      <td>111</td>\n",
              "      <td>435</td>\n",
              "      <td>242</td>\n",
              "      <td>hammer1</td>\n",
              "    </tr>\n",
              "    <tr>\n",
              "      <th>2</th>\n",
              "      <td>/content/drive/My Drive/KTH_Handtool_Dataset/B...</td>\n",
              "      <td>101</td>\n",
              "      <td>193</td>\n",
              "      <td>424</td>\n",
              "      <td>260</td>\n",
              "      <td>hammer3</td>\n",
              "    </tr>\n",
              "    <tr>\n",
              "      <th>3</th>\n",
              "      <td>/content/drive/My Drive/KTH_Handtool_Dataset/B...</td>\n",
              "      <td>213</td>\n",
              "      <td>197</td>\n",
              "      <td>306</td>\n",
              "      <td>279</td>\n",
              "      <td>plier2</td>\n",
              "    </tr>\n",
              "    <tr>\n",
              "      <th>4</th>\n",
              "      <td>/content/drive/My Drive/KTH_Handtool_Dataset/B...</td>\n",
              "      <td>229</td>\n",
              "      <td>26</td>\n",
              "      <td>561</td>\n",
              "      <td>349</td>\n",
              "      <td>hammer1</td>\n",
              "    </tr>\n",
              "  </tbody>\n",
              "</table>\n",
              "</div>"
            ],
            "text/plain": [
              "                                                   0    1  ...    4        5\n",
              "0  /content/drive/My Drive/KTH_Handtool_Dataset/B...  204  ...  283   plier1\n",
              "1  /content/drive/My Drive/KTH_Handtool_Dataset/B...  283  ...  242  hammer1\n",
              "2  /content/drive/My Drive/KTH_Handtool_Dataset/B...  101  ...  260  hammer3\n",
              "3  /content/drive/My Drive/KTH_Handtool_Dataset/B...  213  ...  279   plier2\n",
              "4  /content/drive/My Drive/KTH_Handtool_Dataset/B...  229  ...  349  hammer1\n",
              "\n",
              "[5 rows x 6 columns]"
            ]
          },
          "metadata": {
            "tags": []
          },
          "execution_count": 7
        }
      ]
    },
    {
      "cell_type": "code",
      "metadata": {
        "id": "wfubrY7n8ptX",
        "colab_type": "code",
        "colab": {
          "base_uri": "https://localhost:8080/",
          "height": 51
        },
        "outputId": "792c82c5-8a75-46cd-bc2c-5d498276826b"
      },
      "source": [
        "amount_80 = int(0.8*len(data))\n",
        "train_data = data[:amount_80]\n",
        "test_data = data[amount_80:]\n",
        "print(len(train_data))\n",
        "print(len(test_data))"
      ],
      "execution_count": 8,
      "outputs": [
        {
          "output_type": "stream",
          "text": [
            "4449\n",
            "1113\n"
          ],
          "name": "stdout"
        }
      ]
    },
    {
      "cell_type": "code",
      "metadata": {
        "id": "dwPXBoCwhZvH",
        "colab_type": "code",
        "colab": {}
      },
      "source": [
        "train_data.to_csv(path_or_buf='train_annotations', index=False)"
      ],
      "execution_count": 0,
      "outputs": []
    },
    {
      "cell_type": "code",
      "metadata": {
        "id": "5OXNGimrVMd2",
        "colab_type": "code",
        "colab": {}
      },
      "source": [
        "/content/drive/My Drive/KTH_Handtool_Dataset/Blue_background/bboxes/Artificial/hammer1/camera1_15.xml"
      ],
      "execution_count": 0,
      "outputs": []
    }
  ]
}