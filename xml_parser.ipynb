{
  "nbformat": 4,
  "nbformat_minor": 0,
  "metadata": {
    "colab": {
      "name": "fizyr_keras_retinanet.ipynb",
      "provenance": [],
      "collapsed_sections": [],
      "toc_visible": true
    },
    "kernelspec": {
      "name": "python3",
      "display_name": "Python 3"
    },
    "accelerator": "GPU"
  },
  "cells": [
    {
      "cell_type": "code",
      "metadata": {
        "id": "yDZWfpbjLg0J",
        "colab_type": "code",
        "outputId": "6b8a8ac1-7e25-4d1f-b5b1-d2c1ae539391",
        "colab": {
          "base_uri": "https://localhost:8080/",
          "height": 122
        }
      },
      "source": [
        "from google.colab import drive\n",
        "drive.mount('/content/drive')"
      ],
      "execution_count": 1,
      "outputs": [
        {
          "output_type": "stream",
          "text": [
            "Go to this URL in a browser: https://accounts.google.com/o/oauth2/auth?client_id=947318989803-6bn6qk8qdgf4n4g3pfee6491hc0brc4i.apps.googleusercontent.com&redirect_uri=urn%3aietf%3awg%3aoauth%3a2.0%3aoob&response_type=code&scope=email%20https%3a%2f%2fwww.googleapis.com%2fauth%2fdocs.test%20https%3a%2f%2fwww.googleapis.com%2fauth%2fdrive%20https%3a%2f%2fwww.googleapis.com%2fauth%2fdrive.photos.readonly%20https%3a%2f%2fwww.googleapis.com%2fauth%2fpeopleapi.readonly\n",
            "\n",
            "Enter your authorization code:\n",
            "··········\n",
            "Mounted at /content/drive\n"
          ],
          "name": "stdout"
        }
      ]
    },
    {
      "cell_type": "markdown",
      "metadata": {
        "id": "bzpgGUAtLnqO",
        "colab_type": "text"
      },
      "source": [
        "**Parse all xml files to numeric format**"
      ]
    },
    {
      "cell_type": "code",
      "metadata": {
        "id": "ZwdpjHFX_wck",
        "colab_type": "code",
        "colab": {}
      },
      "source": [
        "from bs4 import BeautifulSoup\n",
        "import os\n",
        "import csv\n",
        "\n",
        "folder = '/content/drive/My Drive/KTH_Handtool_Dataset'\n",
        "subfolder = ['Blue_background']\n",
        "in_subfolder = ['Artificial', 'Cloudy', 'Directed']\n",
        "instruments = ['hammer1', 'hammer2', 'hammer3', 'plier1', 'plier2', 'plier3', 'screw1', 'screw2', 'screw3']\n",
        "\n",
        "with open('train.csv', mode='w') as file:\n",
        "  for folder_name in subfolder:\n",
        "    for in_folder_name in in_subfolder:\n",
        "      for instrument in instruments:\n",
        "        directory_name = os.path.join(folder, folder_name, 'rgb', in_folder_name, instrument)\n",
        "        directory_name_xml = os.path.join(folder, folder_name, 'bboxes', in_folder_name, instrument)\n",
        "        for filename in os.listdir(directory_name_xml):\n",
        "          label = instrument\n",
        "          filename_jpg = filename[:-4] + '.jpg'\n",
        "          filename_str = os.path.join(directory_name, filename_jpg)\n",
        "          handler = open(os.path.join(directory_name_xml, filename)).read()\n",
        "          soup = BeautifulSoup(handler, \"xml\")\n",
        "          xmin = int(soup.xmin.string)\n",
        "          xmax = int(soup.xmax.string)\n",
        "          ymin = int(soup.ymin.string)\n",
        "          ymax = int(soup.ymax.string)\n",
        "          row = [filename_str, xmin, ymin, xmax, ymax, label]\n",
        "          writer = csv.writer(file, delimiter=',', quotechar='\"', quoting=csv.QUOTE_MINIMAL)\n",
        "          writer.writerow(row)\n",
        "csvfile.close()"
      ],
      "execution_count": 0,
      "outputs": []
    },
    {
      "cell_type": "code",
      "metadata": {
        "id": "rZv4NL9qU9DC",
        "colab_type": "code",
        "colab": {}
      },
      "source": [
        "subfolder = ['Brown_background', 'White_background']\n",
        "sub_instruments = ['Kinect', 'webcam']\n",
        "dict_instr = {'Kinect': 'kinect'}\n",
        "\n",
        "# open file to write to the end of a file\n",
        "with open('train.csv', mode='a') as file:\n",
        "  for folder_name in subfolder:\n",
        "    for in_folder_name in in_subfolder:\n",
        "      for instrument in instruments:\n",
        "        for sub_instrument in sub_instruments:\n",
        "          directory_name = os.path.join(folder, folder_name, 'rgb', in_folder_name, instrument, sub_instrument)\n",
        "          dir_name_xml = os.path.join(folder, folder_name, 'bbox', in_folder_name, instrument)\n",
        "          if sub_instrument not in os.listdir(dir_name_xml):\n",
        "            sub_instrument = dict_instr[sub_instrument]\n",
        "          directory_name_xml = os.path.join(dir_name_xml, sub_instrument)\n",
        "          for filename in os.listdir(directory_name_xml):\n",
        "            label = instrument\n",
        "            filename_jpg = filename[:-4] + '.jpg'\n",
        "            filename_str = os.path.join(directory_name, filename_jpg)\n",
        "            handler = open(os.path.join(directory_name_xml, filename)).read()\n",
        "            soup = BeautifulSoup(handler, \"xml\")\n",
        "            xmin = int(soup.xmin.string)\n",
        "            xmax = int(soup.xmax.string)\n",
        "            ymin = int(soup.ymin.string)\n",
        "            ymax = int(soup.ymax.string)\n",
        "            row = [filename_str, xmin, ymin, xmax, ymax, label]\n",
        "            writer = csv.writer(file, delimiter=',', quotechar='\"', quoting=csv.QUOTE_MINIMAL)\n",
        "            writer.writerow(row)"
      ],
      "execution_count": 0,
      "outputs": []
    },
    {
      "cell_type": "code",
      "metadata": {
        "id": "MWWskPIFiZkY",
        "colab_type": "code",
        "colab": {
          "base_uri": "https://localhost:8080/",
          "height": 204
        },
        "outputId": "d2d93773-1fd8-4fea-a934-a1d34f704af1"
      },
      "source": [
        "import pandas as pd\n",
        "\n",
        "data = pd.read_csv(\"train.csv\", header=None)\n",
        "data = data.sample(frac=1).reset_index(drop=True)\n",
        "data.head()"
      ],
      "execution_count": 6,
      "outputs": [
        {
          "output_type": "execute_result",
          "data": {
            "text/html": [
              "<div>\n",
              "<style scoped>\n",
              "    .dataframe tbody tr th:only-of-type {\n",
              "        vertical-align: middle;\n",
              "    }\n",
              "\n",
              "    .dataframe tbody tr th {\n",
              "        vertical-align: top;\n",
              "    }\n",
              "\n",
              "    .dataframe thead th {\n",
              "        text-align: right;\n",
              "    }\n",
              "</style>\n",
              "<table border=\"1\" class=\"dataframe\">\n",
              "  <thead>\n",
              "    <tr style=\"text-align: right;\">\n",
              "      <th></th>\n",
              "      <th>0</th>\n",
              "      <th>1</th>\n",
              "      <th>2</th>\n",
              "      <th>3</th>\n",
              "      <th>4</th>\n",
              "      <th>5</th>\n",
              "    </tr>\n",
              "  </thead>\n",
              "  <tbody>\n",
              "    <tr>\n",
              "      <th>0</th>\n",
              "      <td>/content/drive/My Drive/KTH_Handtool_Dataset/B...</td>\n",
              "      <td>9</td>\n",
              "      <td>178</td>\n",
              "      <td>193</td>\n",
              "      <td>350</td>\n",
              "      <td>plier2</td>\n",
              "    </tr>\n",
              "    <tr>\n",
              "      <th>1</th>\n",
              "      <td>/content/drive/My Drive/KTH_Handtool_Dataset/B...</td>\n",
              "      <td>8</td>\n",
              "      <td>145</td>\n",
              "      <td>324</td>\n",
              "      <td>227</td>\n",
              "      <td>hammer3</td>\n",
              "    </tr>\n",
              "    <tr>\n",
              "      <th>2</th>\n",
              "      <td>/content/drive/My Drive/KTH_Handtool_Dataset/B...</td>\n",
              "      <td>236</td>\n",
              "      <td>163</td>\n",
              "      <td>346</td>\n",
              "      <td>228</td>\n",
              "      <td>plier1</td>\n",
              "    </tr>\n",
              "    <tr>\n",
              "      <th>3</th>\n",
              "      <td>/content/drive/My Drive/KTH_Handtool_Dataset/B...</td>\n",
              "      <td>310</td>\n",
              "      <td>94</td>\n",
              "      <td>392</td>\n",
              "      <td>269</td>\n",
              "      <td>hammer2</td>\n",
              "    </tr>\n",
              "    <tr>\n",
              "      <th>4</th>\n",
              "      <td>/content/drive/My Drive/KTH_Handtool_Dataset/B...</td>\n",
              "      <td>137</td>\n",
              "      <td>13</td>\n",
              "      <td>222</td>\n",
              "      <td>316</td>\n",
              "      <td>hammer3</td>\n",
              "    </tr>\n",
              "  </tbody>\n",
              "</table>\n",
              "</div>"
            ],
            "text/plain": [
              "                                                   0    1  ...    4        5\n",
              "0  /content/drive/My Drive/KTH_Handtool_Dataset/B...    9  ...  350   plier2\n",
              "1  /content/drive/My Drive/KTH_Handtool_Dataset/B...    8  ...  227  hammer3\n",
              "2  /content/drive/My Drive/KTH_Handtool_Dataset/B...  236  ...  228   plier1\n",
              "3  /content/drive/My Drive/KTH_Handtool_Dataset/B...  310  ...  269  hammer2\n",
              "4  /content/drive/My Drive/KTH_Handtool_Dataset/B...  137  ...  316  hammer3\n",
              "\n",
              "[5 rows x 6 columns]"
            ]
          },
          "metadata": {
            "tags": []
          },
          "execution_count": 6
        }
      ]
    },
    {
      "cell_type": "code",
      "metadata": {
        "id": "7p5Ar3gcjJWh",
        "colab_type": "code",
        "colab": {
          "base_uri": "https://localhost:8080/",
          "height": 51
        },
        "outputId": "daef57f8-5e70-44e3-9d45-68e9723937d4"
      },
      "source": [
        "amount_80 = int(0.8*len(data))\n",
        "train_data = data[:amount_80]\n",
        "print(len(train_data))\n",
        "test_data = data[amount_80:]\n",
        "print(len(test_data))"
      ],
      "execution_count": 7,
      "outputs": [
        {
          "output_type": "stream",
          "text": [
            "1071\n",
            "268\n"
          ],
          "name": "stdout"
        }
      ]
    },
    {
      "cell_type": "code",
      "metadata": {
        "id": "5OXNGimrVMd2",
        "colab_type": "code",
        "colab": {}
      },
      "source": [
        "/content/drive/My Drive/KTH_Handtool_Dataset/Blue_background/bboxes/Artificial/hammer1/camera1_15.xml"
      ],
      "execution_count": 0,
      "outputs": []
    }
  ]
}