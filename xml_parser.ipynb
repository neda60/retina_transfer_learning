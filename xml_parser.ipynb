{
  "nbformat": 4,
  "nbformat_minor": 0,
  "metadata": {
    "colab": {
      "name": "fizyr_keras_retinanet.ipynb",
      "provenance": [],
      "collapsed_sections": [],
      "toc_visible": true
    },
    "kernelspec": {
      "name": "python3",
      "display_name": "Python 3"
    },
    "accelerator": "GPU"
  },
  "cells": [
    {
      "cell_type": "code",
      "metadata": {
        "id": "yDZWfpbjLg0J",
        "colab_type": "code",
        "outputId": "82be0497-4d7e-491f-cd2c-0ad8b5e55042",
        "colab": {
          "base_uri": "https://localhost:8080/",
          "height": 54
        }
      },
      "source": [
        "from google.colab import drive\n",
        "drive.mount('/content/drive')"
      ],
      "execution_count": 3,
      "outputs": [
        {
          "output_type": "stream",
          "text": [
            "Drive already mounted at /content/drive; to attempt to forcibly remount, call drive.mount(\"/content/drive\", force_remount=True).\n"
          ],
          "name": "stdout"
        }
      ]
    },
    {
      "cell_type": "markdown",
      "metadata": {
        "id": "bzpgGUAtLnqO",
        "colab_type": "text"
      },
      "source": [
        "**Parse all xml files to numeric format**"
      ]
    },
    {
      "cell_type": "code",
      "metadata": {
        "id": "ZwdpjHFX_wck",
        "colab_type": "code",
        "colab": {}
      },
      "source": [
        "from bs4 import BeautifulSoup\n",
        "import os\n",
        "import csv\n",
        "\n",
        "folder = '/content/drive/My Drive/KTH_Handtool_Dataset'\n",
        "subfolder = ['Blue_background']\n",
        "in_subfolder = ['Artificial', 'Cloudy', 'Directed']\n",
        "instruments = ['hammer1', 'hammer2', 'hammer3', 'plier1', 'plier2', 'plier3', 'screw1', 'screw2', 'screw3']\n",
        "sub_instruments = ['Kinect', 'webcam']\n",
        "\n",
        "with open('employee_file.csv', mode='w') as file:\n",
        "  for folder_name in subfolder:\n",
        "    for in_folder_name in in_subfolder:\n",
        "      for instrument in instruments:\n",
        "        directory_name = os.path.join(folder, folder_name, 'rgb', in_folder_name, instrument)\n",
        "        directory_name_xml = os.path.join(folder, folder_name, 'bboxes', in_folder_name, instrument)\n",
        "        for filename in os.listdir(directory_name_xml):\n",
        "          label = instrument\n",
        "          filename_jpg = filename[:-4] + '.jpg'\n",
        "          filename_str = os.path.join(directory_name, filename_jpg)\n",
        "          handler = open(os.path.join(directory_name_xml, filename)).read()\n",
        "          soup = BeautifulSoup(handler, \"xml\")\n",
        "          xmin = int(soup.xmin.string)\n",
        "          xmax = int(soup.xmax.string)\n",
        "          ymin = int(soup.ymin.string)\n",
        "          ymax = int(soup.ymax.string)\n",
        "          row = [filename_str, xmin, ymin, xmax, ymax, label]\n",
        "          writer = csv.writer(file, delimiter=',', quotechar='\"', quoting=csv.QUOTE_MINIMAL)\n",
        "          writer.writerow(row)\n",
        "csvfile.close()"
      ],
      "execution_count": 0,
      "outputs": []
    },
    {
      "cell_type": "code",
      "metadata": {
        "id": "5OXNGimrVMd2",
        "colab_type": "code",
        "colab": {}
      },
      "source": [
        "/content/drive/My Drive/KTH_Handtool_Dataset/Blue_background/bboxes/Artificial/hammer1/camera1_15.xml"
      ],
      "execution_count": 0,
      "outputs": []
    },
    {
      "cell_type": "code",
      "metadata": {
        "id": "D3-VKmRAJxmO",
        "colab_type": "code",
        "colab": {}
      },
      "source": [
        "subfolder = ['Brown_background', 'White_background']"
      ],
      "execution_count": 0,
      "outputs": []
    }
  ]
}