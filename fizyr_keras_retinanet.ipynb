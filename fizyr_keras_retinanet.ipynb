{
  "nbformat": 4,
  "nbformat_minor": 0,
  "metadata": {
    "colab": {
      "name": "fizyr_keras_retinanet.ipynb",
      "version": "0.3.2",
      "provenance": [],
      "collapsed_sections": [],
      "toc_visible": true
    },
    "kernelspec": {
      "name": "python3",
      "display_name": "Python 3"
    },
    "accelerator": "GPU"
  },
  "cells": [
    {
      "cell_type": "markdown",
      "metadata": {
        "id": "WzgPkIP1irG3",
        "colab_type": "text"
      },
      "source": [
        "# Object Detection in Google Colab with Fizyr Retinanet\n",
        "\n",
        "Jupyter notebook providing steps to train a Keras/Tensorflow model for object detection with custom dataset.\n",
        "\n",
        "It runs in Google Colab using [Fizyr implementation](https://github.com/fizyr/keras-retinanet) of RetinaNet in Keras.\n",
        "\n",
        "Requirements are only dataset images and annotations file made in [LabelImg](https://github.com/tzutalin/labelImg).\n",
        "\n",
        "Colab Runtime type: Python3, GPU enabled."
      ]
    },
    {
      "cell_type": "markdown",
      "metadata": {
        "id": "J6D_Wz3h5ILS",
        "colab_type": "text"
      },
      "source": [
        "# Environment Setup\n",
        "Download and install in Colab required packages and import libraries."
      ]
    },
    {
      "cell_type": "code",
      "metadata": {
        "id": "3PdMj4Tn3tgN",
        "colab_type": "code",
        "outputId": "4237e8df-28ee-445f-ae58-ff9cbcf586ab",
        "colab": {
          "base_uri": "https://localhost:8080/",
          "height": 34
        }
      },
      "source": [
        "!git clone https://github.com/fizyr/keras-retinanet.git"
      ],
      "execution_count": 1,
      "outputs": [
        {
          "output_type": "stream",
          "text": [
            "fatal: destination path 'keras-retinanet' already exists and is not an empty directory.\n"
          ],
          "name": "stdout"
        }
      ]
    },
    {
      "cell_type": "code",
      "metadata": {
        "id": "FCnoQkemPoJ0",
        "colab_type": "code",
        "colab": {
          "base_uri": "https://localhost:8080/",
          "height": 34
        },
        "outputId": "ac3971e2-9af6-41c7-c516-9ec690b2d468"
      },
      "source": [
        "%cd keras-retinanet/"
      ],
      "execution_count": 2,
      "outputs": [
        {
          "output_type": "stream",
          "text": [
            "/content/keras-retinanet\n"
          ],
          "name": "stdout"
        }
      ]
    },
    {
      "cell_type": "code",
      "metadata": {
        "id": "tp1et8QGPmOk",
        "colab_type": "code",
        "colab": {
          "base_uri": "https://localhost:8080/",
          "height": 221
        },
        "outputId": "fb03ea03-32e6-4206-9a2c-74d88cff72e1"
      },
      "source": [
        "!git checkout 42068ef9e406602d92a1afe2ee7d470f7e9860df"
      ],
      "execution_count": 3,
      "outputs": [
        {
          "output_type": "stream",
          "text": [
            "Note: checking out '42068ef9e406602d92a1afe2ee7d470f7e9860df'.\n",
            "\n",
            "You are in 'detached HEAD' state. You can look around, make experimental\n",
            "changes and commit them, and you can discard any commits you make in this\n",
            "state without impacting any branches by performing another checkout.\n",
            "\n",
            "If you want to create a new branch to retain commits you create, you may\n",
            "do so (now or later) by using -b with the checkout command again. Example:\n",
            "\n",
            "  git checkout -b <new-branch-name>\n",
            "\n",
            "HEAD is now at 42068ef Merge pull request #621 from borakrc/fix-anchor-boxes-not-shown\n"
          ],
          "name": "stdout"
        }
      ]
    },
    {
      "cell_type": "code",
      "metadata": {
        "id": "uPLMzdXZ5BGB",
        "colab_type": "code",
        "outputId": "63b74661-6eaf-49f5-e152-0d01952952da",
        "colab": {
          "base_uri": "https://localhost:8080/",
          "height": 377
        }
      },
      "source": [
        "!pip install ."
      ],
      "execution_count": 4,
      "outputs": [
        {
          "output_type": "stream",
          "text": [
            "Processing /content/keras-retinanet\n",
            "Requirement already satisfied: keras in /usr/local/lib/python3.6/dist-packages (from keras-retinanet==0.4.1) (2.2.4)\n",
            "Requirement already satisfied: keras-resnet in /usr/local/lib/python3.6/dist-packages (from keras-retinanet==0.4.1) (0.1.0)\n",
            "Requirement already satisfied: six in /usr/local/lib/python3.6/dist-packages (from keras-retinanet==0.4.1) (1.12.0)\n",
            "Requirement already satisfied: scipy in /usr/local/lib/python3.6/dist-packages (from keras-retinanet==0.4.1) (1.3.0)\n",
            "Requirement already satisfied: cython in /usr/local/lib/python3.6/dist-packages (from keras-retinanet==0.4.1) (0.29.12)\n",
            "Requirement already satisfied: keras-applications>=1.0.6 in /usr/local/lib/python3.6/dist-packages (from keras->keras-retinanet==0.4.1) (1.0.8)\n",
            "Requirement already satisfied: keras-preprocessing>=1.0.5 in /usr/local/lib/python3.6/dist-packages (from keras->keras-retinanet==0.4.1) (1.1.0)\n",
            "Requirement already satisfied: h5py in /usr/local/lib/python3.6/dist-packages (from keras->keras-retinanet==0.4.1) (2.8.0)\n",
            "Requirement already satisfied: pyyaml in /usr/local/lib/python3.6/dist-packages (from keras->keras-retinanet==0.4.1) (3.13)\n",
            "Requirement already satisfied: numpy>=1.9.1 in /usr/local/lib/python3.6/dist-packages (from keras->keras-retinanet==0.4.1) (1.16.4)\n",
            "Building wheels for collected packages: keras-retinanet\n",
            "  Building wheel for keras-retinanet (setup.py) ... \u001b[?25l\u001b[?25hdone\n",
            "  Stored in directory: /root/.cache/pip/wheels/b2/9f/57/cb0305f6f5a41fc3c11ad67b8cedfbe9127775b563337827ba\n",
            "Successfully built keras-retinanet\n",
            "Installing collected packages: keras-retinanet\n",
            "  Found existing installation: keras-retinanet 0.5.1\n",
            "    Uninstalling keras-retinanet-0.5.1:\n",
            "      Successfully uninstalled keras-retinanet-0.5.1\n",
            "Successfully installed keras-retinanet-0.4.1\n"
          ],
          "name": "stdout"
        }
      ]
    },
    {
      "cell_type": "code",
      "metadata": {
        "id": "UWspmGibv2qq",
        "colab_type": "code",
        "outputId": "bcb410db-01a9-4c4a-9e6a-7e791eb433d8",
        "colab": {
          "base_uri": "https://localhost:8080/",
          "height": 88
        }
      },
      "source": [
        "!python setup.py build_ext --inplace"
      ],
      "execution_count": 5,
      "outputs": [
        {
          "output_type": "stream",
          "text": [
            "running build_ext\n",
            "skipping 'keras_retinanet/utils/compute_overlap.c' Cython extension (up-to-date)\n",
            "copying build/lib.linux-x86_64-3.6/keras_retinanet/utils/compute_overlap.cpython-36m-x86_64-linux-gnu.so -> keras_retinanet/utils\n"
          ],
          "name": "stdout"
        }
      ]
    },
    {
      "cell_type": "code",
      "metadata": {
        "id": "9UI7XYyxyJcX",
        "colab_type": "code",
        "colab": {}
      },
      "source": [
        "import os\n",
        "import shutil\n",
        "import zipfile\n",
        "import urllib\n",
        "import xml.etree.ElementTree as ET\n",
        "import numpy as np\n",
        "import csv\n",
        "import pandas\n",
        "from google.colab import drive\n",
        "from google.colab import files"
      ],
      "execution_count": 0,
      "outputs": []
    },
    {
      "cell_type": "code",
      "metadata": {
        "id": "2eE4y_ysLRDU",
        "colab_type": "code",
        "colab": {
          "base_uri": "https://localhost:8080/",
          "height": 34
        },
        "outputId": "9f6b1f72-1d5d-4263-f113-fc80f89e5be1"
      },
      "source": [
        "#!/usr/bin/env python\n",
        "# show images inline\n",
        "%matplotlib inline\n",
        "\n",
        "# automatically reload modules when they have changed\n",
        "%reload_ext autoreload\n",
        "%autoreload 2\n",
        "\n",
        "# import keras\n",
        "import keras\n",
        "\n",
        "# import keras_retinanet\n",
        "from keras_retinanet import models\n",
        "from keras_retinanet.utils.image import read_image_bgr, preprocess_image, resize_image\n",
        "from keras_retinanet.utils.visualization import draw_box, draw_caption\n",
        "from keras_retinanet.utils.colors import label_color\n",
        "\n",
        "# import miscellaneous modules\n",
        "import matplotlib.pyplot as plt\n",
        "import cv2\n",
        "import os\n",
        "import numpy as np\n",
        "import time\n",
        "\n",
        "# set tf backend to allow memory to grow, instead of claiming everything\n",
        "import tensorflow as tf\n",
        "\n",
        "def get_session():\n",
        "    config = tf.ConfigProto()\n",
        "    config.gpu_options.allow_growth = True\n",
        "    return tf.Session(config=config)\n",
        "\n",
        "# use this environment flag to change which GPU to use\n",
        "#os.environ[\"CUDA_VISIBLE_DEVICES\"] = \"1\"\n",
        "\n",
        "# set the modified tf session as backend in keras\n",
        "keras.backend.tensorflow_backend.set_session(get_session())"
      ],
      "execution_count": 7,
      "outputs": [
        {
          "output_type": "stream",
          "text": [
            "Using TensorFlow backend.\n"
          ],
          "name": "stderr"
        }
      ]
    },
    {
      "cell_type": "code",
      "metadata": {
        "id": "DpZW_zgyLgFH",
        "colab_type": "code",
        "colab": {}
      },
      "source": [
        "def get_session():\n",
        "    \"\"\" Construct a modified tf session.\n",
        "    \"\"\"\n",
        "    config = tf.ConfigProto()\n",
        "    config.gpu_options.allow_growth = True\n",
        "    return tf.Session(config=config)"
      ],
      "execution_count": 0,
      "outputs": []
    },
    {
      "cell_type": "code",
      "metadata": {
        "id": "Qhel5eqLMPS8",
        "colab_type": "code",
        "colab": {
          "base_uri": "https://localhost:8080/",
          "height": 462
        },
        "outputId": "660a4407-bedf-45ee-af97-9af35fb70080"
      },
      "source": [
        "%%time\n",
        "keras.backend.tensorflow_backend.set_session(get_session())\n",
        "path_to_model='/content/drive/My Drive/resnet50_csv_03.h5'\n",
        "backbone='resnet50'\n",
        "# load the model\n",
        "print('Loading model, this may take a second...')\n",
        "model = models.load_model(path_to_model, backbone_name=backbone, convert=True)"
      ],
      "execution_count": 10,
      "outputs": [
        {
          "output_type": "stream",
          "text": [
            "WARNING: Logging before flag parsing goes to stderr.\n",
            "W0723 00:33:36.447040 140258560128896 deprecation_wrapper.py:119] From /usr/local/lib/python3.6/dist-packages/keras/backend/tensorflow_backend.py:517: The name tf.placeholder is deprecated. Please use tf.compat.v1.placeholder instead.\n",
            "\n",
            "W0723 00:33:36.473208 140258560128896 deprecation_wrapper.py:119] From /usr/local/lib/python3.6/dist-packages/keras/backend/tensorflow_backend.py:4115: The name tf.random_normal is deprecated. Please use tf.random.normal instead.\n",
            "\n"
          ],
          "name": "stderr"
        },
        {
          "output_type": "stream",
          "text": [
            "Loading model, this may take a second...\n"
          ],
          "name": "stdout"
        },
        {
          "output_type": "stream",
          "text": [
            "W0723 00:33:36.685848 140258560128896 deprecation_wrapper.py:119] From /usr/local/lib/python3.6/dist-packages/keras/backend/tensorflow_backend.py:4138: The name tf.random_uniform is deprecated. Please use tf.random.uniform instead.\n",
            "\n",
            "W0723 00:33:36.706775 140258560128896 deprecation_wrapper.py:119] From /usr/local/lib/python3.6/dist-packages/keras/backend/tensorflow_backend.py:1919: The name tf.nn.fused_batch_norm is deprecated. Please use tf.compat.v1.nn.fused_batch_norm instead.\n",
            "\n",
            "W0723 00:33:36.710157 140258560128896 deprecation_wrapper.py:119] From /usr/local/lib/python3.6/dist-packages/keras/backend/tensorflow_backend.py:3976: The name tf.nn.max_pool is deprecated. Please use tf.nn.max_pool2d instead.\n",
            "\n",
            "W0723 00:33:36.712728 140258560128896 deprecation_wrapper.py:119] From /usr/local/lib/python3.6/dist-packages/keras/backend/tensorflow_backend.py:4185: The name tf.truncated_normal is deprecated. Please use tf.random.truncated_normal instead.\n",
            "\n",
            "W0723 00:33:37.811191 140258560128896 deprecation_wrapper.py:119] From /content/keras-retinanet/keras_retinanet/backend/tensorflow_backend.py:62: The name tf.image.resize_images is deprecated. Please use tf.image.resize instead.\n",
            "\n",
            "W0723 00:33:38.757501 140258560128896 deprecation_wrapper.py:119] From /usr/local/lib/python3.6/dist-packages/keras/backend/tensorflow_backend.py:174: The name tf.get_default_session is deprecated. Please use tf.compat.v1.get_default_session instead.\n",
            "\n",
            "W0723 00:33:40.721132 140258560128896 deprecation_wrapper.py:119] From /usr/local/lib/python3.6/dist-packages/keras/optimizers.py:790: The name tf.train.Optimizer is deprecated. Please use tf.compat.v1.train.Optimizer instead.\n",
            "\n",
            "W0723 00:33:40.734352 140258560128896 deprecation.py:323] From /content/keras-retinanet/keras_retinanet/backend/tensorflow_backend.py:98: add_dispatch_support.<locals>.wrapper (from tensorflow.python.ops.array_ops) is deprecated and will be removed in a future version.\n",
            "Instructions for updating:\n",
            "Use tf.where in 2.0, which has the same broadcast rule as np.where\n"
          ],
          "name": "stderr"
        },
        {
          "output_type": "stream",
          "text": [
            "CPU times: user 12 s, sys: 1.42 s, total: 13.4 s\n",
            "Wall time: 13.5 s\n"
          ],
          "name": "stdout"
        }
      ]
    },
    {
      "cell_type": "code",
      "metadata": {
        "id": "NfSdmedAMMWP",
        "colab_type": "code",
        "colab": {}
      },
      "source": [
        "labels_to_names = {0:'человек',1: 'зубило',2:'молоток',3:'плоскогубцы',4:'гаечный ключ', 5: 'гаечный ключ'}"
      ],
      "execution_count": 0,
      "outputs": []
    },
    {
      "cell_type": "code",
      "metadata": {
        "id": "Vj5JOSY9d1wD",
        "colab_type": "code",
        "colab": {}
      },
      "source": [
        "fontpath = \"/content/drive/My Drive/wqy-zenhei.ttf\"\n",
        "font = ImageFont.truetype(fontpath, 14)"
      ],
      "execution_count": 0,
      "outputs": []
    },
    {
      "cell_type": "code",
      "metadata": {
        "id": "SgbpnFXmgqGx",
        "colab_type": "code",
        "colab": {}
      },
      "source": [
        "def label_color(label):\n",
        "    \"\"\" Return a color from a set of predefined colors. Contains 80 colors in total.\n",
        "\n",
        "    Args\n",
        "        label: The label to get the color for.\n",
        "\n",
        "    Returns\n",
        "        A list of three values representing a RGB color.\n",
        "\n",
        "        If no color is defined for a certain label, the color green is returned and a warning is printed.\n",
        "    \"\"\"\n",
        "    if label < len(colors):\n",
        "        return colors[label]\n",
        "    else:\n",
        "        warnings.warn('Label {} has no color, returning default.'.format(label))\n",
        "        return (0, 255, 0)\n",
        "\n",
        "colors = [\n",
        "    [31  , 0   , 255] ,\n",
        "    [0   , 159 , 255] ,\n",
        "    [255 , 95  , 0]   ,\n",
        "    [0   , 255 , 25]  ,\n",
        "    [255 , 0   , 0]   ,\n",
        "    [255 , 0   , 0]   ,\n",
        "    [255 , 0   , 133] ,\n",
        "    [255 , 172 , 0]   ,\n",
        "    [108 , 0   , 255]]"
      ],
      "execution_count": 0,
      "outputs": []
    },
    {
      "cell_type": "code",
      "metadata": {
        "id": "SeCFTsQFOLI6",
        "colab_type": "code",
        "colab": {}
      },
      "source": [
        "# load image\n",
        "#image = read_image_bgr('50.jpg')\n",
        "#image = read_image_bgr('000000008021.jpg')\n",
        "#image = read_image_bgr('test_images/vlcsnap-2019-06-28-16h43m49s638.png')\n",
        "#image = read_image_bgr('test_images/vlcsnap-2019-06-28-16h45m00s709.png')\n",
        "\n",
        "\n",
        "for i in range(0, 10580, 25):\n",
        "  image = read_image_bgr('/content/drive/My Drive/railway/frame'+ str(i) +'.jpg')\n",
        "  # copy to draw on\n",
        "  draw = image.copy()\n",
        "  draw = cv2.cvtColor(draw, cv2.COLOR_BGR2RGB)\n",
        "\n",
        "  # preprocess image for network\n",
        "  image = preprocess_image(image)\n",
        "  image, scale = resize_image(image)\n",
        "\n",
        "  # process image\n",
        "  boxes, scores, labels = model.predict_on_batch(np.expand_dims(image, axis=0))\n",
        "  #boxes, scores = prediction_model.predict_on_batch(np.expand_dims(image, axis=0))\n",
        "\n",
        "  # correct for image scale\n",
        "  boxes /= scale\n",
        "\n",
        "  # visualize detections\n",
        "  for box, score, label in zip(boxes[0], scores[0], labels[0]):\n",
        "  #for box, score  in zip(boxes[0], scores[0]):\n",
        "      # scores are sorted so we can break\n",
        "      #print (score[0],len(score))\n",
        "      if score < 0.81:\n",
        "          break\n",
        "\n",
        "      #label=0   \n",
        "      #color = label_color(label)\n",
        "      color = label_color(label)\n",
        "\n",
        "      b = box.astype(int)\n",
        "      draw_box(draw, b, color=color)\n",
        "      caption = \"{} {:.3f}\".format(labels_to_names[label], score)\n",
        "      #draw_caption(draw, b, caption)\n",
        "      img_pil = Image.fromarray(draw)\n",
        "      draw_ = ImageDraw.Draw(img_pil)\n",
        "      draw_.text((b[0], b[1] - 15),  caption, font = font)\n",
        "      draw = np.array(img_pil)\n",
        "      draw1 = cv2.cvtColor(draw, cv2.COLOR_BGR2RGB)\n",
        "      cv2.imwrite('/content/drive/My Drive/retina/' + str(i) + '.jpg', draw1)\n",
        "\n",
        "#plt.figure(figsize=(15, 15))\n",
        "#plt.axis('off')\n",
        "#plt.imshow(draw)\n",
        "#plt.show()"
      ],
      "execution_count": 0,
      "outputs": []
    },
    {
      "cell_type": "code",
      "metadata": {
        "id": "yDZWfpbjLg0J",
        "colab_type": "code",
        "colab": {
          "base_uri": "https://localhost:8080/",
          "height": 122
        },
        "outputId": "106c02c9-1f6e-459f-f785-ff21fd61bf4b"
      },
      "source": [
        "from google.colab import drive\n",
        "drive.mount('/content/drive')"
      ],
      "execution_count": 6,
      "outputs": [
        {
          "output_type": "stream",
          "text": [
            "Go to this URL in a browser: https://accounts.google.com/o/oauth2/auth?client_id=947318989803-6bn6qk8qdgf4n4g3pfee6491hc0brc4i.apps.googleusercontent.com&redirect_uri=urn%3Aietf%3Awg%3Aoauth%3A2.0%3Aoob&scope=email%20https%3A%2F%2Fwww.googleapis.com%2Fauth%2Fdocs.test%20https%3A%2F%2Fwww.googleapis.com%2Fauth%2Fdrive%20https%3A%2F%2Fwww.googleapis.com%2Fauth%2Fdrive.photos.readonly%20https%3A%2F%2Fwww.googleapis.com%2Fauth%2Fpeopleapi.readonly&response_type=code\n",
            "\n",
            "Enter your authorization code:\n",
            "··········\n",
            "Mounted at /content/drive\n"
          ],
          "name": "stdout"
        }
      ]
    }
  ]
}